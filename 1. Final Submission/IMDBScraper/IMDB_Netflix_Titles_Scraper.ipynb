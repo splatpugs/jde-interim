{
 "cells": [
  {
   "cell_type": "markdown",
   "id": "f2fbe887",
   "metadata": {},
   "source": [
    "# Section 1: Trying out BeautifulSoup #\n",
    "***"
   ]
  },
  {
   "cell_type": "code",
   "execution_count": null,
   "id": "95f8e1e2",
   "metadata": {},
   "outputs": [],
   "source": [
    "import requests\n",
    "from bs4 import BeautifulSoup"
   ]
  },
  {
   "cell_type": "code",
   "execution_count": null,
   "id": "276e23ed",
   "metadata": {},
   "outputs": [],
   "source": [
    "# Simple test to get website's HTML content and print 200, OK! if success or other response.\n",
    "\n",
    "head = {\"User-Agent\":\"Chrome\"}\n",
    "URL = 'https://www.imdb.com/list/ls574098070/'\n",
    "\n",
    "response = requests.get(URL, headers=head)\n",
    "\n",
    "# check if request was successful (status code == 200)\n",
    "if response.status_code == 200:\n",
    "    #html_content = response.content\n",
    "    #print(html_content)\n",
    "    print(\"200, OK!\")\n",
    "    #soup = BeautifulSoup(response.text)\n",
    "    #print(soup.prettify())\n",
    "else:\n",
    "    print(response)"
   ]
  },
  {
   "cell_type": "code",
   "execution_count": null,
   "id": "b72dce09",
   "metadata": {},
   "outputs": [],
   "source": [
    "# Using BeautifulSoup to parse the HTML code and extract specific data.\n",
    "\n",
    "html_content = response.content\n",
    "soup = BeautifulSoup(html_content,\"html.parser\") #html.parser tells BeautifulSoup to use built-in HTML parser!"
   ]
  },
  {
   "cell_type": "code",
   "execution_count": null,
   "id": "2259bae0",
   "metadata": {},
   "outputs": [],
   "source": [
    "# Test print title tag of the page\n",
    "print(soup.title)"
   ]
  },
  {
   "cell_type": "code",
   "execution_count": null,
   "id": "4adc6153",
   "metadata": {},
   "outputs": [],
   "source": [
    "# Test print title of page as string\n",
    "print(soup.title.string)"
   ]
  },
  {
   "cell_type": "code",
   "execution_count": null,
   "id": "cd2e2e0c",
   "metadata": {},
   "outputs": [],
   "source": [
    "# Test print sum of all links in the page\n",
    "page_links = len(soup.find_all(\"a\"))\n",
    "print(f\"There are {page_links} links in this page.\")"
   ]
  },
  {
   "cell_type": "code",
   "execution_count": null,
   "id": "44e234a3",
   "metadata": {},
   "outputs": [],
   "source": [
    "# Test print text from the page\n",
    "#print(soup.get_text())"
   ]
  },
  {
   "cell_type": "code",
   "execution_count": null,
   "id": "7c93d475",
   "metadata": {},
   "outputs": [],
   "source": [
    "# Now we will test find by DOM elements, such as tag - for imdb listicles we want h3 class\n",
    "soup.find_all(\"h3\")"
   ]
  },
  {
   "cell_type": "code",
   "execution_count": null,
   "id": "232cc3e5",
   "metadata": {},
   "outputs": [],
   "source": [
    "titles = soup.find_all(\"h3\")"
   ]
  },
  {
   "cell_type": "code",
   "execution_count": null,
   "id": "62284bfd",
   "metadata": {},
   "outputs": [],
   "source": [
    "# Print the top 20 titles\n",
    "for title in titles[:20]:\n",
    "    print(title.text)"
   ]
  },
  {
   "cell_type": "code",
   "execution_count": null,
   "id": "6f8e5cd1",
   "metadata": {},
   "outputs": [],
   "source": [
    "h3_titles = [title.get_text().strip() for title in soup.find_all('h3')]\n",
    "limited_titles = h3_titles[:20]\n",
    "print(limited_titles)"
   ]
  },
  {
   "cell_type": "code",
   "execution_count": null,
   "id": "e8e64be3",
   "metadata": {},
   "outputs": [],
   "source": [
    "import pandas as pd\n",
    "\n",
    "df = pd.DataFrame(limited_titles, columns=['Title'])\n",
    "df.head()"
   ]
  },
  {
   "cell_type": "markdown",
   "id": "537b9932",
   "metadata": {},
   "source": [
    "***\n",
    "Done testing."
   ]
  },
  {
   "cell_type": "markdown",
   "id": "aaff0ce9",
   "metadata": {},
   "source": [
    "#### Notes:\n",
    "\n",
    "1. We can build a big loop to loop over each sites to get top 10 or 20. \n",
    "2. Afterwards, we will build a nested for loop, to go through each site, find all h3, strip the numbering (e.g. 1. 2.)\n",
    "3. Then append them into an empty list with column name 'titles'.\n",
    "4. After that, we can use value_counts() to count the number of time each title has been repeated.\n",
    "5. The final dataframe should have a 'title' column and 'count' column.\n",
    "6. Export the final dataframe as .csv"
   ]
  },
  {
   "cell_type": "markdown",
   "id": "2d517ea1",
   "metadata": {},
   "source": [
    "# Section 2: Actual Loop #\n",
    "***"
   ]
  },
  {
   "cell_type": "code",
   "execution_count": 48,
   "id": "abcdb2c8",
   "metadata": {},
   "outputs": [
    {
     "name": "stdout",
     "output_type": "stream",
     "text": [
      "200, OK!\n",
      "200, OK!\n",
      "200, OK!\n",
      "200, OK!\n",
      "200, OK!\n",
      "200, OK!\n",
      "200, OK!\n",
      "200, OK!\n",
      "200, OK!\n",
      "200, OK!\n",
      "200, OK!\n",
      "200, OK!\n",
      "200, OK!\n",
      "200, OK!\n",
      "200, OK!\n",
      "200, OK!\n",
      "200, OK!\n",
      "200, OK!\n",
      "Done checking!\n"
     ]
    }
   ],
   "source": [
    "import requests\n",
    "from bs4 import BeautifulSoup\n",
    "import pandas as pd\n",
    "\n",
    "# To disguise/by-pass 403 - block by IMDB\n",
    "head = {\"User-Agent\":\"Chrome\"}\n",
    "check = 0\n",
    "\n",
    "# From IMDB: lists/lsXXXXXXXXX/\n",
    "urls_list = ['https://www.imdb.com/list/ls026320360/?sort=user_rating%2Cdesc','https://www.imdb.com/list/ls041295777/?sort=user_rating%2Cdesc',\n",
    "            'https://www.imdb.com/list/ls029540683/?sort=user_rating%2Cdesc','https://www.imdb.com/list/ls029528149/?sort=user_rating%2Cdesc',\n",
    "            'https://www.imdb.com/list/ls044081393/?sort=user_rating%2Cdesc','https://www.imdb.com/list/ls095319760/?sort=user_rating%2Cdesc',\n",
    "            'https://www.imdb.com/list/ls041593310/?sort=user_rating%2Cdesc','https://www.imdb.com/list/ls091650455/?sort=user_rating%2Cdesc',\n",
    "            'https://www.imdb.com/list/ls093951797/?sort=user_rating%2Cdesc','https://www.imdb.com/list/ls086167623/?sort=user_rating%2Cdesc',\n",
    "            'https://www.imdb.com/list/ls086805851/?sort=user_rating%2Cdesc','https://www.imdb.com/list/ls080705486/?sort=user_rating%2Cdesc',\n",
    "            'https://www.imdb.com/list/ls084374702/?sort=user_rating%2Cdesc','https://www.imdb.com/list/ls501352531/?sort=user_rating%2Cdesc',\n",
    "            'https://www.imdb.com/list/ls574741945/?sort=user_rating%2Cdesc','https://www.imdb.com/list/ls574098070/?sort=user_rating%2Cdesc',\n",
    "            'https://www.imdb.com/list/ls093971121/?sort=user_rating%2Cdesc','https://www.imdb.com/list/ls063868333/?sort=user_rating%2Cdesc']\n",
    "\n",
    "# Loop through the url list and check all return 200 ok\n",
    "for url in urls_list:\n",
    "    response = requests.get(url, headers=head)\n",
    "    if response.status_code == 200:\n",
    "        print(\"200, OK!\")\n",
    "        check = 1\n",
    "    else:\n",
    "        check = -1\n",
    "        print(response)\n",
    "            \n",
    "if check == 1: \n",
    "    print(\"Done checking!\")\n",
    "else:\n",
    "    print(\"Something went wrong!\")"
   ]
  },
  {
   "cell_type": "code",
   "execution_count": 49,
   "id": "38ff34f6",
   "metadata": {},
   "outputs": [],
   "source": [
    "# Using BeautifulSoup to parse the HTML code and extract specific data.\n",
    "\n",
    "# Check if check = 1 (means all 200 ok)\n",
    "if check == 1:\n",
    "    all_h3_titles = []\n",
    "    \n",
    "    # For loop to go through list of urls\n",
    "    for url in urls_list:\n",
    "        response = requests.get(url, headers=head)\n",
    "        html_content = response.content\n",
    "        soup = BeautifulSoup(html_content,\"html.parser\")\n",
    "        titles = soup.find_all(\"h3\")\n",
    "        \n",
    "        # Nested for loop to print out top 20 titles of web page\n",
    "        for title in titles[:20]:\n",
    "            clean_title = title.text.strip() # remove 1. 2. 3. ...\n",
    "            all_h3_titles.append(clean_title) # add each web page top 20 to the list\n",
    "\n",
    "    df = pd.DataFrame(all_h3_titles, columns=['Title'])"
   ]
  },
  {
   "cell_type": "code",
   "execution_count": 50,
   "id": "ec848352",
   "metadata": {},
   "outputs": [
    {
     "data": {
      "text/html": [
       "<div>\n",
       "<style scoped>\n",
       "    .dataframe tbody tr th:only-of-type {\n",
       "        vertical-align: middle;\n",
       "    }\n",
       "\n",
       "    .dataframe tbody tr th {\n",
       "        vertical-align: top;\n",
       "    }\n",
       "\n",
       "    .dataframe thead th {\n",
       "        text-align: right;\n",
       "    }\n",
       "</style>\n",
       "<table border=\"1\" class=\"dataframe\">\n",
       "  <thead>\n",
       "    <tr style=\"text-align: right;\">\n",
       "      <th></th>\n",
       "      <th>Title</th>\n",
       "    </tr>\n",
       "  </thead>\n",
       "  <tbody>\n",
       "    <tr>\n",
       "      <th>0</th>\n",
       "      <td>1. To All the Boys I've Loved Before</td>\n",
       "    </tr>\n",
       "    <tr>\n",
       "      <th>1</th>\n",
       "      <td>2. Kodachrome</td>\n",
       "    </tr>\n",
       "    <tr>\n",
       "      <th>2</th>\n",
       "      <td>3. A Futile and Stupid Gesture</td>\n",
       "    </tr>\n",
       "    <tr>\n",
       "      <th>3</th>\n",
       "      <td>4. Set It Up</td>\n",
       "    </tr>\n",
       "    <tr>\n",
       "      <th>4</th>\n",
       "      <td>5. When We First Met</td>\n",
       "    </tr>\n",
       "  </tbody>\n",
       "</table>\n",
       "</div>"
      ],
      "text/plain": [
       "                                  Title\n",
       "0  1. To All the Boys I've Loved Before\n",
       "1                         2. Kodachrome\n",
       "2        3. A Futile and Stupid Gesture\n",
       "3                          4. Set It Up\n",
       "4                  5. When We First Met"
      ]
     },
     "execution_count": 50,
     "metadata": {},
     "output_type": "execute_result"
    }
   ],
   "source": [
    "df.head()"
   ]
  },
  {
   "cell_type": "code",
   "execution_count": 51,
   "id": "eacbf6e5",
   "metadata": {},
   "outputs": [
    {
     "data": {
      "text/html": [
       "<div>\n",
       "<style scoped>\n",
       "    .dataframe tbody tr th:only-of-type {\n",
       "        vertical-align: middle;\n",
       "    }\n",
       "\n",
       "    .dataframe tbody tr th {\n",
       "        vertical-align: top;\n",
       "    }\n",
       "\n",
       "    .dataframe thead th {\n",
       "        text-align: right;\n",
       "    }\n",
       "</style>\n",
       "<table border=\"1\" class=\"dataframe\">\n",
       "  <thead>\n",
       "    <tr style=\"text-align: right;\">\n",
       "      <th></th>\n",
       "      <th>Title</th>\n",
       "    </tr>\n",
       "  </thead>\n",
       "  <tbody>\n",
       "    <tr>\n",
       "      <th>0</th>\n",
       "      <td>To All the Boys I've Loved Before</td>\n",
       "    </tr>\n",
       "    <tr>\n",
       "      <th>1</th>\n",
       "      <td>Kodachrome</td>\n",
       "    </tr>\n",
       "    <tr>\n",
       "      <th>2</th>\n",
       "      <td>A Futile and Stupid Gesture</td>\n",
       "    </tr>\n",
       "    <tr>\n",
       "      <th>3</th>\n",
       "      <td>Set It Up</td>\n",
       "    </tr>\n",
       "    <tr>\n",
       "      <th>4</th>\n",
       "      <td>When We First Met</td>\n",
       "    </tr>\n",
       "  </tbody>\n",
       "</table>\n",
       "</div>"
      ],
      "text/plain": [
       "                                Title\n",
       "0   To All the Boys I've Loved Before\n",
       "1                          Kodachrome\n",
       "2         A Futile and Stupid Gesture\n",
       "3                           Set It Up\n",
       "4                   When We First Met"
      ]
     },
     "execution_count": 51,
     "metadata": {},
     "output_type": "execute_result"
    }
   ],
   "source": [
    "# More on regex here: https://hostman.com/tutorials/how-to-delete-a-character-from-a-string-in-python/\n",
    "df['Title'] = df['Title'].str.replace(r'\\d+\\.','',regex=True)\n",
    "df.head()"
   ]
  },
  {
   "cell_type": "code",
   "execution_count": 52,
   "id": "f8b02859",
   "metadata": {},
   "outputs": [
    {
     "data": {
      "text/plain": [
       "(356, 1)"
      ]
     },
     "execution_count": 52,
     "metadata": {},
     "output_type": "execute_result"
    }
   ],
   "source": [
    "df.shape"
   ]
  },
  {
   "cell_type": "code",
   "execution_count": 53,
   "id": "6badeb5b",
   "metadata": {},
   "outputs": [
    {
     "data": {
      "text/html": [
       "<div>\n",
       "<style scoped>\n",
       "    .dataframe tbody tr th:only-of-type {\n",
       "        vertical-align: middle;\n",
       "    }\n",
       "\n",
       "    .dataframe tbody tr th {\n",
       "        vertical-align: top;\n",
       "    }\n",
       "\n",
       "    .dataframe thead th {\n",
       "        text-align: right;\n",
       "    }\n",
       "</style>\n",
       "<table border=\"1\" class=\"dataframe\">\n",
       "  <thead>\n",
       "    <tr style=\"text-align: right;\">\n",
       "      <th></th>\n",
       "      <th>index</th>\n",
       "      <th>Title</th>\n",
       "    </tr>\n",
       "  </thead>\n",
       "  <tbody>\n",
       "    <tr>\n",
       "      <th>0</th>\n",
       "      <td>Bridgerton</td>\n",
       "      <td>7</td>\n",
       "    </tr>\n",
       "    <tr>\n",
       "      <th>1</th>\n",
       "      <td>Marriage Story</td>\n",
       "      <td>5</td>\n",
       "    </tr>\n",
       "    <tr>\n",
       "      <th>2</th>\n",
       "      <td>The Magicians</td>\n",
       "      <td>4</td>\n",
       "    </tr>\n",
       "    <tr>\n",
       "      <th>3</th>\n",
       "      <td>The Queen's Gambit</td>\n",
       "      <td>3</td>\n",
       "    </tr>\n",
       "    <tr>\n",
       "      <th>4</th>\n",
       "      <td>The Irishman</td>\n",
       "      <td>3</td>\n",
       "    </tr>\n",
       "  </tbody>\n",
       "</table>\n",
       "</div>"
      ],
      "text/plain": [
       "                 index  Title\n",
       "0           Bridgerton      7\n",
       "1       Marriage Story      5\n",
       "2        The Magicians      4\n",
       "3   The Queen's Gambit      3\n",
       "4         The Irishman      3"
      ]
     },
     "execution_count": 53,
     "metadata": {},
     "output_type": "execute_result"
    }
   ],
   "source": [
    "netflix_counts = df['Title'].value_counts().reset_index()\n",
    "netflix_counts.head()"
   ]
  },
  {
   "cell_type": "code",
   "execution_count": 54,
   "id": "05ec8628",
   "metadata": {},
   "outputs": [],
   "source": [
    "# Rename the columns\n",
    "netflix_counts.columns = ['title','count']"
   ]
  },
  {
   "cell_type": "code",
   "execution_count": 55,
   "id": "29035ddb",
   "metadata": {},
   "outputs": [
    {
     "data": {
      "text/html": [
       "<div>\n",
       "<style scoped>\n",
       "    .dataframe tbody tr th:only-of-type {\n",
       "        vertical-align: middle;\n",
       "    }\n",
       "\n",
       "    .dataframe tbody tr th {\n",
       "        vertical-align: top;\n",
       "    }\n",
       "\n",
       "    .dataframe thead th {\n",
       "        text-align: right;\n",
       "    }\n",
       "</style>\n",
       "<table border=\"1\" class=\"dataframe\">\n",
       "  <thead>\n",
       "    <tr style=\"text-align: right;\">\n",
       "      <th></th>\n",
       "      <th>title</th>\n",
       "      <th>count</th>\n",
       "    </tr>\n",
       "  </thead>\n",
       "  <tbody>\n",
       "    <tr>\n",
       "      <th>0</th>\n",
       "      <td>Bridgerton</td>\n",
       "      <td>7</td>\n",
       "    </tr>\n",
       "    <tr>\n",
       "      <th>1</th>\n",
       "      <td>Marriage Story</td>\n",
       "      <td>5</td>\n",
       "    </tr>\n",
       "    <tr>\n",
       "      <th>2</th>\n",
       "      <td>The Magicians</td>\n",
       "      <td>4</td>\n",
       "    </tr>\n",
       "    <tr>\n",
       "      <th>3</th>\n",
       "      <td>The Queen's Gambit</td>\n",
       "      <td>3</td>\n",
       "    </tr>\n",
       "    <tr>\n",
       "      <th>4</th>\n",
       "      <td>The Irishman</td>\n",
       "      <td>3</td>\n",
       "    </tr>\n",
       "  </tbody>\n",
       "</table>\n",
       "</div>"
      ],
      "text/plain": [
       "                 title  count\n",
       "0           Bridgerton      7\n",
       "1       Marriage Story      5\n",
       "2        The Magicians      4\n",
       "3   The Queen's Gambit      3\n",
       "4         The Irishman      3"
      ]
     },
     "execution_count": 55,
     "metadata": {},
     "output_type": "execute_result"
    }
   ],
   "source": [
    "netflix_counts.head()"
   ]
  },
  {
   "cell_type": "code",
   "execution_count": 56,
   "id": "21eadf7f",
   "metadata": {},
   "outputs": [
    {
     "name": "stdout",
     "output_type": "stream",
     "text": [
      "<class 'pandas.core.frame.DataFrame'>\n",
      "RangeIndex: 287 entries, 0 to 286\n",
      "Data columns (total 2 columns):\n",
      " #   Column  Non-Null Count  Dtype \n",
      "---  ------  --------------  ----- \n",
      " 0   title   287 non-null    object\n",
      " 1   count   287 non-null    int64 \n",
      "dtypes: int64(1), object(1)\n",
      "memory usage: 4.6+ KB\n"
     ]
    }
   ],
   "source": [
    "netflix_counts.info()"
   ]
  },
  {
   "cell_type": "code",
   "execution_count": 58,
   "id": "8b18e687",
   "metadata": {},
   "outputs": [
    {
     "data": {
      "text/html": [
       "<div>\n",
       "<style scoped>\n",
       "    .dataframe tbody tr th:only-of-type {\n",
       "        vertical-align: middle;\n",
       "    }\n",
       "\n",
       "    .dataframe tbody tr th {\n",
       "        vertical-align: top;\n",
       "    }\n",
       "\n",
       "    .dataframe thead th {\n",
       "        text-align: right;\n",
       "    }\n",
       "</style>\n",
       "<table border=\"1\" class=\"dataframe\">\n",
       "  <thead>\n",
       "    <tr style=\"text-align: right;\">\n",
       "      <th></th>\n",
       "      <th>title</th>\n",
       "      <th>count</th>\n",
       "    </tr>\n",
       "  </thead>\n",
       "  <tbody>\n",
       "    <tr>\n",
       "      <th>0</th>\n",
       "      <td>Bridgerton</td>\n",
       "      <td>7</td>\n",
       "    </tr>\n",
       "    <tr>\n",
       "      <th>1</th>\n",
       "      <td>Marriage Story</td>\n",
       "      <td>5</td>\n",
       "    </tr>\n",
       "    <tr>\n",
       "      <th>2</th>\n",
       "      <td>The Magicians</td>\n",
       "      <td>4</td>\n",
       "    </tr>\n",
       "    <tr>\n",
       "      <th>3</th>\n",
       "      <td>The Queen's Gambit</td>\n",
       "      <td>3</td>\n",
       "    </tr>\n",
       "    <tr>\n",
       "      <th>4</th>\n",
       "      <td>The Irishman</td>\n",
       "      <td>3</td>\n",
       "    </tr>\n",
       "    <tr>\n",
       "      <th>5</th>\n",
       "      <td>Dark</td>\n",
       "      <td>3</td>\n",
       "    </tr>\n",
       "    <tr>\n",
       "      <th>6</th>\n",
       "      <td>Black Mirror</td>\n",
       "      <td>3</td>\n",
       "    </tr>\n",
       "    <tr>\n",
       "      <th>7</th>\n",
       "      <td>Arcane</td>\n",
       "      <td>3</td>\n",
       "    </tr>\n",
       "    <tr>\n",
       "      <th>8</th>\n",
       "      <td>When They See Us</td>\n",
       "      <td>3</td>\n",
       "    </tr>\n",
       "    <tr>\n",
       "      <th>9</th>\n",
       "      <td>The Half of It</td>\n",
       "      <td>3</td>\n",
       "    </tr>\n",
       "    <tr>\n",
       "      <th>10</th>\n",
       "      <td>Private Life</td>\n",
       "      <td>2</td>\n",
       "    </tr>\n",
       "    <tr>\n",
       "      <th>11</th>\n",
       "      <td>All Day and a Night</td>\n",
       "      <td>2</td>\n",
       "    </tr>\n",
       "    <tr>\n",
       "      <th>12</th>\n",
       "      <td>The Lovebirds</td>\n",
       "      <td>2</td>\n",
       "    </tr>\n",
       "    <tr>\n",
       "      <th>13</th>\n",
       "      <td>Lost Girls</td>\n",
       "      <td>2</td>\n",
       "    </tr>\n",
       "    <tr>\n",
       "      <th>14</th>\n",
       "      <td>To All the Boys: P.S. I Still Love You</td>\n",
       "      <td>2</td>\n",
       "    </tr>\n",
       "    <tr>\n",
       "      <th>15</th>\n",
       "      <td>Spenser Confidential</td>\n",
       "      <td>2</td>\n",
       "    </tr>\n",
       "    <tr>\n",
       "      <th>16</th>\n",
       "      <td>Ozark</td>\n",
       "      <td>2</td>\n",
       "    </tr>\n",
       "    <tr>\n",
       "      <th>17</th>\n",
       "      <td>A Fall from Grace</td>\n",
       "      <td>2</td>\n",
       "    </tr>\n",
       "    <tr>\n",
       "      <th>18</th>\n",
       "      <td>Sex Education</td>\n",
       "      <td>2</td>\n",
       "    </tr>\n",
       "    <tr>\n",
       "      <th>19</th>\n",
       "      <td>The Wrong Missy</td>\n",
       "      <td>2</td>\n",
       "    </tr>\n",
       "  </tbody>\n",
       "</table>\n",
       "</div>"
      ],
      "text/plain": [
       "                                      title  count\n",
       "0                                Bridgerton      7\n",
       "1                            Marriage Story      5\n",
       "2                             The Magicians      4\n",
       "3                        The Queen's Gambit      3\n",
       "4                              The Irishman      3\n",
       "5                                      Dark      3\n",
       "6                              Black Mirror      3\n",
       "7                                    Arcane      3\n",
       "8                          When They See Us      3\n",
       "9                            The Half of It      3\n",
       "10                             Private Life      2\n",
       "11                      All Day and a Night      2\n",
       "12                            The Lovebirds      2\n",
       "13                               Lost Girls      2\n",
       "14   To All the Boys: P.S. I Still Love You      2\n",
       "15                     Spenser Confidential      2\n",
       "16                                    Ozark      2\n",
       "17                        A Fall from Grace      2\n",
       "18                            Sex Education      2\n",
       "19                          The Wrong Missy      2"
      ]
     },
     "execution_count": 58,
     "metadata": {},
     "output_type": "execute_result"
    }
   ],
   "source": [
    "netflix_counts.head(20)"
   ]
  },
  {
   "cell_type": "code",
   "execution_count": 59,
   "id": "245d391b",
   "metadata": {},
   "outputs": [],
   "source": [
    "imbd_top_20 = netflix_counts[:20]"
   ]
  },
  {
   "cell_type": "code",
   "execution_count": 60,
   "id": "bc5d0b77",
   "metadata": {},
   "outputs": [
    {
     "name": "stdout",
     "output_type": "stream",
     "text": [
      "                                      title  count\n",
      "0                                Bridgerton      7\n",
      "1                            Marriage Story      5\n",
      "2                             The Magicians      4\n",
      "3                        The Queen's Gambit      3\n",
      "4                              The Irishman      3\n",
      "5                                      Dark      3\n",
      "6                              Black Mirror      3\n",
      "7                                    Arcane      3\n",
      "8                          When They See Us      3\n",
      "9                            The Half of It      3\n",
      "10                             Private Life      2\n",
      "11                      All Day and a Night      2\n",
      "12                            The Lovebirds      2\n",
      "13                               Lost Girls      2\n",
      "14   To All the Boys: P.S. I Still Love You      2\n",
      "15                     Spenser Confidential      2\n",
      "16                                    Ozark      2\n",
      "17                        A Fall from Grace      2\n",
      "18                            Sex Education      2\n",
      "19                          The Wrong Missy      2\n"
     ]
    }
   ],
   "source": [
    "print(imbd_top_20)"
   ]
  },
  {
   "cell_type": "code",
   "execution_count": 61,
   "id": "895c701d",
   "metadata": {},
   "outputs": [],
   "source": [
    "# convert to .csv output\n",
    "imbd_top_20.to_csv('IMDB_ratings/imdb_top.csv',index=False)"
   ]
  },
  {
   "cell_type": "markdown",
   "id": "f9dbfc4e",
   "metadata": {},
   "source": [
    "***"
   ]
  },
  {
   "cell_type": "markdown",
   "id": "dc9cf386",
   "metadata": {},
   "source": [
    "## Fun Stuffs\n",
    "\n",
    "Was trying to make a notification sound when the loop for status == 200 codes is done, but somehow the code is a little jiffy, so I did not want to include it. "
   ]
  },
  {
   "cell_type": "code",
   "execution_count": 20,
   "id": "52372584",
   "metadata": {},
   "outputs": [],
   "source": [
    "# FROM https://github.com/TaylorSMarks/playsound\n",
    "from playsound import playsound"
   ]
  },
  {
   "cell_type": "code",
   "execution_count": 24,
   "id": "05d317bd",
   "metadata": {},
   "outputs": [],
   "source": [
    "# from https://pixabay.com/sound-effects/search/notification/?order=trending\n",
    "#playsound(\"./level-up.mp3\")"
   ]
  },
  {
   "cell_type": "markdown",
   "id": "484a2c25",
   "metadata": {},
   "source": [
    "## References:\n",
    "\n",
    "1. DataCamp courses: intro + intermediate importing Data in Python & streamlined Data Ingestion\n",
    "2. BeautifulSoup tutorial: https://www.scrapingbee.com/blog/python-web-scraping-beautiful-soup/"
   ]
  },
  {
   "cell_type": "markdown",
   "id": "00f1a6f0",
   "metadata": {},
   "source": [
    "# END OF NOTEBOOK #\n",
    "***"
   ]
  }
 ],
 "metadata": {
  "kernelspec": {
   "display_name": "Python 3 (ipykernel)",
   "language": "python",
   "name": "python3"
  },
  "language_info": {
   "codemirror_mode": {
    "name": "ipython",
    "version": 3
   },
   "file_extension": ".py",
   "mimetype": "text/x-python",
   "name": "python",
   "nbconvert_exporter": "python",
   "pygments_lexer": "ipython3",
   "version": "3.11.4"
  }
 },
 "nbformat": 4,
 "nbformat_minor": 5
}
